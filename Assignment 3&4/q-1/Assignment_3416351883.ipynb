{
  "nbformat": 4,
  "nbformat_minor": 0,
  "metadata": {
    "colab": {
      "provenance": []
    },
    "kernelspec": {
      "name": "python3",
      "display_name": "Python 3"
    },
    "language_info": {
      "name": "python"
    }
  },
  "cells": [
    {
      "cell_type": "code",
      "execution_count": 1,
      "metadata": {
        "colab": {
          "base_uri": "https://localhost:8080/"
        },
        "id": "ibzK7hJQKsw4",
        "outputId": "e3e24802-179b-4412-fb08-f6e20fbc24b6"
      },
      "outputs": [
        {
          "output_type": "stream",
          "name": "stdout",
          "text": [
            "{'firstName': 'Yogesh', 'lastName': 'Kumar', 'isOpenToWork': False, 'isHiring': False, 'profilePicture': 'https://media.licdn.com/dms/image/D5603AQHHeiC4RfsaYA/profile-displayphoto-shrink_800_800/0/1668512713493?e=1718841600&v=beta&t=xbi7i4FS0U-1XdQT9EGpSVpzy2s3CIiUB6YcvYZroKg', 'summary': \"Click the connect button and I'll jump on a quick call with you! Stay safe and have a great day.\", 'headline': 'Certified Salesforce Expert |\\nSr. React Native Developer', 'geo': {'country': 'India', 'city': 'New Delhi, Delhi', 'full': 'New Delhi, Delhi, India'}, 'languages': [{'name': 'English', 'proficiency': 'NATIVE_OR_BILINGUAL'}, {'name': 'Hindi', 'proficiency': 'NATIVE_OR_BILINGUAL'}], 'educations': [{'start': {'year': 0, 'month': 0, 'day': 0}, 'end': {'year': 0, 'month': 0, 'day': 0}, 'fieldOfStudy': 'Cloud Computing & Analytics', 'degree': 'Master of Science - MS', 'grade': '3.58/4', 'schoolName': 'Illinois Institute of Technology', 'description': '', 'activities': '', 'url': 'https://www.linkedin.com/school/illinois-tech/', 'schoolId': '6328'}, {'start': {'year': 0, 'month': 0, 'day': 0}, 'end': {'year': 0, 'month': 0, 'day': 0}, 'fieldOfStudy': 'Computer/Information Technology Administration and Management', 'degree': 'Bachelor of Business Administration - BBA', 'grade': 'A', 'schoolName': 'Institute of Management Studies, Noida', 'description': 'Accounting for Leaders, Managerial Finance, Marketing Strategies, Leadership & Change in Org, Operational Planning & Policy', 'activities': '', 'url': 'https://www.linkedin.com/school/institute-of-management-studies-noida/', 'schoolId': '3259388'}], 'position': [{'companyName': 'Upwork', 'companyUsername': 'upwork', 'companyURL': 'https://www.linkedin.com/company/upwork/', 'companyLogo': 'https://media.licdn.com/dms/image/C4E0BAQFAvA55uI9RQQ/company-logo_400_400/0/1630655510176/upwork_logo?e=1721260800&v=beta&t=LrOhHgbUWrIYJM2SNOosWP0PfFcXbPVRsLId8FOFJOg', 'companyIndustry': 'Computer Software', 'companyStaffCountRange': '501 - 1000', 'title': 'Certified Salesforce Admin, Developer & Marketing Operations Manager', 'multiLocaleTitle': {'en_US': 'Certified Salesforce Admin, Developer & Marketing Operations Manager'}, 'multiLocaleCompanyName': {'en_US': 'Upwork'}, 'location': 'United States', 'description': '✅Certified Salesforce Developer\\n✅Certified Salesforce Administrator\\n✅Certified Salesforce Marketing Cloud Specialist', 'employmentType': 'Freelance', 'start': {'year': 2022, 'month': 7, 'day': 0}, 'end': {'year': 0, 'month': 0, 'day': 0}}, {'companyName': 'CloudCache Consulting', 'companyUsername': 'cloudcache-consulting', 'companyURL': 'https://www.linkedin.com/company/cloudcache-consulting/', 'companyLogo': 'https://media.licdn.com/dms/image/D560BAQHGRpM5onQ6_A/company-logo_400_400/0/1667019117410/cloudcache_consulting_logo?e=1721260800&v=beta&t=jZOePSwCWQdKTHVnTIuHrpj8TD-59zdZaRH-1WoywPc', 'companyIndustry': 'Information Technology & Services', 'companyStaffCountRange': '11 - 50', 'title': 'Salesforce Admin & Developer', 'multiLocaleTitle': {'en_US': 'Salesforce Admin & Developer'}, 'multiLocaleCompanyName': {'en_US': 'CloudCache Consulting'}, 'location': 'Bengaluru, Karnataka, India', 'description': '• Successfully migrated the business process from Microsoft CRM to Salesforce CRM.\\n• Developing the new requirement on Salesforce as per business needs.\\n• Analyzed business requirements, entity relationships and converting to Salesforce custom objects.\\n• Maintaining the security level and configuration on Salesforce. \\n• Implemented Apex Triggers for top-level standard objects such as Contacts, and Accounts.\\n• Developed Visual Force pages to implement custom functionality. \\n• Implemented various validation rules and workflows.\\n• Worked on the Agile Scrum model aimed at adaptability and customer satisfaction.\\n• Configured user security permissions in compliance with organizational needs to fulfill HIPAA rules.', 'employmentType': 'Full-time', 'start': {'year': 2019, 'month': 8, 'day': 0}, 'end': {'year': 2022, 'month': 7, 'day': 0}}, {'companyName': 'Citrusbug Technolabs', 'companyUsername': 'citrusbug', 'companyURL': 'https://www.linkedin.com/company/citrusbug/', 'companyLogo': 'https://media.licdn.com/dms/image/C510BAQEVX6JUv4_U3w/company-logo_400_400/0/1630631870725/citrusbug_logo?e=1721260800&v=beta&t=p_o4shWgpx-AOlCJx-tY3xt06wYi0Qxj6nTF27a5nf4', 'companyIndustry': 'Information Technology & Services', 'companyStaffCountRange': '51 - 200', 'title': 'React Native Developer', 'multiLocaleTitle': {'en_US': 'React Native Developer'}, 'multiLocaleCompanyName': {'en_US': 'Citrusbug Technolabs'}, 'location': 'Ahmedabad, Gujarat, India', 'description': '🚀Consider me if you need to:\\n- Build iOS & Android Mobile app using React Native, Flutter, Redux, Expo, Firebase.\\n- Build Rest Api using NodeJS + Firebase Admin SDK etc.\\n- Build Server side rendered Web App using Node.js + React.js + Next.js + Angular.js + Vue.js + Koa.\\n- Integrate GraphQL or Rest Api within Mobile App.\\n- Integrate Firebase Auth (Email/Pass, Facebook, Google, Twitter).\\n- Design Database using Cloud Fire Store, Realtime Database.\\n- Integrate Stripe Payment Gateway.\\n- Integrate Firebase Realtime Database for Chat App Implementation.\\n- Location Tracking during different stages/modes of App.\\n- Firebase Push Notification.\\n- Upgrade React Native to Make App Live.\\n\\niOS App Development & Android App Development\\n\\nFront End: JavaScript (ES5 and ES6) | React | React-Native | Redux | React Hooks | React Saga | React Fetch | JSX | Sqlite | Realm\\nBack End: Node.js | Express | MySQL | PostgreSQL | RESTful API Development | Firebase\\nTesting/Deployment: Mocha | Chai | Jest | Artillery | Loader.io | Amazon AWS | Firebase | Docker\\nDeveloper Tools: GitHub | npm | Webpack | Agile Methodology | TDD', 'employmentType': 'Full-time', 'start': {'year': 2018, 'month': 6, 'day': 0}, 'end': {'year': 2019, 'month': 8, 'day': 0}}, {'companyName': 'Clavax', 'companyUsername': 'clavax', 'companyURL': 'https://www.linkedin.com/company/clavax/', 'companyLogo': 'https://media.licdn.com/dms/image/D560BAQE1HtTWPHZIyQ/company-logo_400_400/0/1703831321503/clavax_logo?e=1721260800&v=beta&t=PD9jlzoridCwtkDMML8rp1rPrfWLYc-9i--li1oY75Q', 'companyIndustry': 'Information Technology & Services', 'companyStaffCountRange': '201 - 500', 'title': 'Senior Business Development Manager', 'multiLocaleTitle': {'en_US': 'Senior Business Development Manager'}, 'multiLocaleCompanyName': {'en_US': 'Clavax'}, 'location': 'Gurugram, Haryana, India', 'description': '● Managing online bidding portals – Upwork, formerly Elance – oDesk, Freelancer, Guru, PeoplePerHour and AppFutura.\\n● Identifying the specific needs of customers, and then creating bespoke solutions.\\n● Responsible for driving business and sales growth by acquire new business opportunities through\\ndifferent channels.\\n● Responsible for converting the leads into business and ensuring monthly targets are\\nachieved.', 'employmentType': 'Full-time', 'start': {'year': 2017, 'month': 4, 'day': 0}, 'end': {'year': 2018, 'month': 6, 'day': 0}}, {'companyName': 'Rapidsoft Technologies - Mobile & Web Application Development', 'companyUsername': 'rapidsoft-technologies-pvt-ltd-', 'companyURL': 'https://www.linkedin.com/company/rapidsoft-technologies-pvt-ltd-/', 'companyLogo': 'https://media.licdn.com/dms/image/C510BAQGe1Qnkr8YzNg/company-logo_400_400/0/1631421027631/rapidsoft_technologies_pvt__ltd__logo?e=1721260800&v=beta&t=xVa-TyFVjCv-KuyoAQu5JpzGy3SaHGmG0R2_DbnRX3w', 'companyIndustry': 'Information Technology & Services', 'companyStaffCountRange': '51 - 200', 'title': 'Business Development Manager', 'multiLocaleTitle': {'en_US': 'Business Development Manager'}, 'multiLocaleCompanyName': {'en_US': 'Rapidsoft Technologies - Mobile & Web Application Development'}, 'location': 'Gurugram, Haryana, India', 'description': 'I was handling the responsibilities of maintaining steady stream of revenue for the\\norganization by bringing new mobile based software development projects.\\n\\n● Managing the Pre-Sales team to ensure a sufficiently healthy leads pipeline and funnel.\\n● Finding alternate source of business development including SEO & Pre-Sales Leads.\\n● Generating Pre-Sales leads through Email Marketing.\\n● Submitting online forms on online directories like Yelp, Entireweb, Viesearch, and Yellowpages.\\n● Finding fresh data from Google and Yahoo for Email Marketing.\\n● Advertising in social media networks for SEO leads.', 'employmentType': 'Full-time', 'start': {'year': 2015, 'month': 10, 'day': 0}, 'end': {'year': 2017, 'month': 3, 'day': 0}}], 'fullPositions': [{'companyName': 'Upwork', 'companyUsername': 'upwork', 'companyURL': 'https://www.linkedin.com/company/upwork/', 'companyLogo': 'https://media.licdn.com/dms/image/C4E0BAQFAvA55uI9RQQ/company-logo_400_400/0/1630655510176/upwork_logo?e=1721260800&v=beta&t=LrOhHgbUWrIYJM2SNOosWP0PfFcXbPVRsLId8FOFJOg', 'companyIndustry': 'Computer Software', 'companyStaffCountRange': '501 - 1000', 'title': 'Certified Salesforce Admin, Developer & Marketing Operations Manager', 'multiLocaleTitle': {'en_US': 'Certified Salesforce Admin, Developer & Marketing Operations Manager'}, 'multiLocaleCompanyName': {'en_US': 'Upwork'}, 'location': 'United States', 'description': '✅Certified Salesforce Developer\\n✅Certified Salesforce Administrator\\n✅Certified Salesforce Marketing Cloud Specialist', 'employmentType': 'Freelance', 'start': {'year': 2022, 'month': 7, 'day': 0}, 'end': {'year': 0, 'month': 0, 'day': 0}}, {'companyName': 'CloudCache Consulting', 'companyUsername': 'cloudcache-consulting', 'companyURL': 'https://www.linkedin.com/company/cloudcache-consulting/', 'companyLogo': 'https://media.licdn.com/dms/image/D560BAQHGRpM5onQ6_A/company-logo_400_400/0/1667019117410/cloudcache_consulting_logo?e=1721260800&v=beta&t=jZOePSwCWQdKTHVnTIuHrpj8TD-59zdZaRH-1WoywPc', 'companyIndustry': 'Information Technology & Services', 'companyStaffCountRange': '11 - 50', 'title': 'Salesforce Admin & Developer', 'multiLocaleTitle': {'en_US': 'Salesforce Admin & Developer'}, 'multiLocaleCompanyName': {'en_US': 'CloudCache Consulting'}, 'location': 'Bengaluru, Karnataka, India', 'description': '• Successfully migrated the business process from Microsoft CRM to Salesforce CRM.\\n• Developing the new requirement on Salesforce as per business needs.\\n• Analyzed business requirements, entity relationships and converting to Salesforce custom objects.\\n• Maintaining the security level and configuration on Salesforce. \\n• Implemented Apex Triggers for top-level standard objects such as Contacts, and Accounts.\\n• Developed Visual Force pages to implement custom functionality. \\n• Implemented various validation rules and workflows.\\n• Worked on the Agile Scrum model aimed at adaptability and customer satisfaction.\\n• Configured user security permissions in compliance with organizational needs to fulfill HIPAA rules.', 'employmentType': 'Full-time', 'start': {'year': 2019, 'month': 8, 'day': 0}, 'end': {'year': 2022, 'month': 7, 'day': 0}}, {'companyName': 'Citrusbug Technolabs', 'companyUsername': 'citrusbug', 'companyURL': 'https://www.linkedin.com/company/citrusbug/', 'companyLogo': 'https://media.licdn.com/dms/image/C510BAQEVX6JUv4_U3w/company-logo_400_400/0/1630631870725/citrusbug_logo?e=1721260800&v=beta&t=p_o4shWgpx-AOlCJx-tY3xt06wYi0Qxj6nTF27a5nf4', 'companyIndustry': 'Information Technology & Services', 'companyStaffCountRange': '51 - 200', 'title': 'React Native Developer', 'multiLocaleTitle': {'en_US': 'React Native Developer'}, 'multiLocaleCompanyName': {'en_US': 'Citrusbug Technolabs'}, 'location': 'Ahmedabad, Gujarat, India', 'description': '🚀Consider me if you need to:\\n- Build iOS & Android Mobile app using React Native, Flutter, Redux, Expo, Firebase.\\n- Build Rest Api using NodeJS + Firebase Admin SDK etc.\\n- Build Server side rendered Web App using Node.js + React.js + Next.js + Angular.js + Vue.js + Koa.\\n- Integrate GraphQL or Rest Api within Mobile App.\\n- Integrate Firebase Auth (Email/Pass, Facebook, Google, Twitter).\\n- Design Database using Cloud Fire Store, Realtime Database.\\n- Integrate Stripe Payment Gateway.\\n- Integrate Firebase Realtime Database for Chat App Implementation.\\n- Location Tracking during different stages/modes of App.\\n- Firebase Push Notification.\\n- Upgrade React Native to Make App Live.\\n\\niOS App Development & Android App Development\\n\\nFront End: JavaScript (ES5 and ES6) | React | React-Native | Redux | React Hooks | React Saga | React Fetch | JSX | Sqlite | Realm\\nBack End: Node.js | Express | MySQL | PostgreSQL | RESTful API Development | Firebase\\nTesting/Deployment: Mocha | Chai | Jest | Artillery | Loader.io | Amazon AWS | Firebase | Docker\\nDeveloper Tools: GitHub | npm | Webpack | Agile Methodology | TDD', 'employmentType': 'Full-time', 'start': {'year': 2018, 'month': 6, 'day': 0}, 'end': {'year': 2019, 'month': 8, 'day': 0}}, {'companyName': 'Clavax', 'companyUsername': 'clavax', 'companyURL': 'https://www.linkedin.com/company/clavax/', 'companyLogo': 'https://media.licdn.com/dms/image/D560BAQE1HtTWPHZIyQ/company-logo_400_400/0/1703831321503/clavax_logo?e=1721260800&v=beta&t=PD9jlzoridCwtkDMML8rp1rPrfWLYc-9i--li1oY75Q', 'companyIndustry': 'Information Technology & Services', 'companyStaffCountRange': '201 - 500', 'title': 'Senior Business Development Manager', 'multiLocaleTitle': {'en_US': 'Senior Business Development Manager'}, 'multiLocaleCompanyName': {'en_US': 'Clavax'}, 'location': 'Gurugram, Haryana, India', 'description': '● Managing online bidding portals – Upwork, formerly Elance – oDesk, Freelancer, Guru, PeoplePerHour and AppFutura.\\n● Identifying the specific needs of customers, and then creating bespoke solutions.\\n● Responsible for driving business and sales growth by acquire new business opportunities through\\ndifferent channels.\\n● Responsible for converting the leads into business and ensuring monthly targets are\\nachieved.', 'employmentType': 'Full-time', 'start': {'year': 2017, 'month': 4, 'day': 0}, 'end': {'year': 2018, 'month': 6, 'day': 0}}, {'companyName': 'Rapidsoft Technologies - Mobile & Web Application Development', 'companyUsername': 'rapidsoft-technologies-pvt-ltd-', 'companyURL': 'https://www.linkedin.com/company/rapidsoft-technologies-pvt-ltd-/', 'companyLogo': 'https://media.licdn.com/dms/image/C510BAQGe1Qnkr8YzNg/company-logo_400_400/0/1631421027631/rapidsoft_technologies_pvt__ltd__logo?e=1721260800&v=beta&t=xVa-TyFVjCv-KuyoAQu5JpzGy3SaHGmG0R2_DbnRX3w', 'companyIndustry': 'Information Technology & Services', 'companyStaffCountRange': '51 - 200', 'title': 'Business Development Manager', 'multiLocaleTitle': {'en_US': 'Business Development Manager'}, 'multiLocaleCompanyName': {'en_US': 'Rapidsoft Technologies - Mobile & Web Application Development'}, 'location': 'Gurugram, Haryana, India', 'description': 'I was handling the responsibilities of maintaining steady stream of revenue for the\\norganization by bringing new mobile based software development projects.\\n\\n● Managing the Pre-Sales team to ensure a sufficiently healthy leads pipeline and funnel.\\n● Finding alternate source of business development including SEO & Pre-Sales Leads.\\n● Generating Pre-Sales leads through Email Marketing.\\n● Submitting online forms on online directories like Yelp, Entireweb, Viesearch, and Yellowpages.\\n● Finding fresh data from Google and Yahoo for Email Marketing.\\n● Advertising in social media networks for SEO leads.', 'employmentType': 'Full-time', 'start': {'year': 2015, 'month': 10, 'day': 0}, 'end': {'year': 2017, 'month': 3, 'day': 0}}], 'skills': [{'name': 'Business Development'}, {'name': 'Business Strategy'}, {'name': 'Customer Satisfaction'}, {'name': 'Customer Relationship Management (CRM)'}, {'name': 'Salesforce.com'}, {'name': 'New Business Development'}, {'name': 'Project Management'}, {'name': 'Team Management'}, {'name': 'Sales Management'}, {'name': 'CRM'}, {'name': 'Lead Generation'}, {'name': 'Management'}, {'name': 'Project Planning'}, {'name': 'Digital Marketing'}, {'name': 'Mobile Application Development'}, {'name': 'E-commerce'}, {'name': 'Website Development'}, {'name': 'Leadership'}, {'name': 'Business Analysis'}, {'name': 'Sales'}], 'givenRecommendation': None, 'receivedRecommendation': None, 'courses': [{'name': 'English Speaking Course from British School of Language (BSL)', 'number': 'DNWL0916'}, {'name': 'Information Security Risk Management', 'number': 'ITC8261'}, {'name': 'Information Security Technology', 'number': 'ITC7830'}], 'certifications': [{'name': 'Salesforce Certified Advanced Administrator', 'start': {'year': 2019, 'month': 10, 'day': 0}, 'end': {'year': 0, 'month': 0, 'day': 0}, 'authority': 'Salesforce', 'company': {'name': 'Salesforce', 'universalName': 'salesforce', 'logo': 'https://media.licdn.com/dms/image/C560BAQHZ9xYomLW7zg/company-logo_200_200/0/1630658255326/salesforce_logo?e=1721260800&v=beta&t=ov3WA8UHnUIqXGlrd8ShlLOTbmQOZvjzv5WNwnwJtOM', 'staffCountRange': {}, 'headquarter': {}}, 'timePeriod': {'start': {'year': 0, 'month': 0, 'day': 0}, 'end': {'year': 0, 'month': 0, 'day': 0}}}, {'name': 'Salesforce Certified Marketing Cloud Specialist', 'start': {'year': 2019, 'month': 9, 'day': 0}, 'end': {'year': 0, 'month': 0, 'day': 0}, 'authority': 'Salesforce', 'company': {'name': 'Salesforce', 'universalName': 'salesforce', 'logo': 'https://media.licdn.com/dms/image/C560BAQHZ9xYomLW7zg/company-logo_200_200/0/1630658255326/salesforce_logo?e=1721260800&v=beta&t=ov3WA8UHnUIqXGlrd8ShlLOTbmQOZvjzv5WNwnwJtOM', 'staffCountRange': {}, 'headquarter': {}}, 'timePeriod': {'start': {'year': 0, 'month': 0, 'day': 0}, 'end': {'year': 0, 'month': 0, 'day': 0}}}, {'name': 'Troubleshooting Network Connectivity', 'start': {'year': 2019, 'month': 7, 'day': 0}, 'end': {'year': 0, 'month': 0, 'day': 0}, 'authority': 'LinkedIn', 'company': {'name': 'LinkedIn', 'universalName': 'linkedin', 'logo': 'https://media.licdn.com/dms/image/C560BAQHaVYd13rRz3A/company-logo_200_200/0/1638831590218/linkedin_logo?e=1721260800&v=beta&t=hCdtLGVZqdY7iwQDDeKyx1mQyrE3N4P1uhWibELC8l4', 'staffCountRange': {}, 'headquarter': {}}, 'timePeriod': {'start': {'year': 0, 'month': 0, 'day': 0}, 'end': {'year': 0, 'month': 0, 'day': 0}}}], 'honors': [{'title': 'Best Employee of the Month', 'description': 'Highest Sales Target Achieved in The Month of September', 'issuer': 'Clavax Community', 'issuerLogo': 'https://media.licdn.com/dms/image/D560BAQE1HtTWPHZIyQ/company-logo_400_400/0/1703831321503/clavax_logo?e=1721260800&v=beta&t=PD9jlzoridCwtkDMML8rp1rPrfWLYc-9i--li1oY75Q', 'issuedOn': {'year': 2018, 'month': 9, 'day': 0}}, {'title': 'Best Employee of the Month', 'description': 'Highest Sales Target Achieved in The Month of October', 'issuer': 'Rapidsoft Community', 'issuerLogo': 'https://media.licdn.com/dms/image/C510BAQGe1Qnkr8YzNg/company-logo_400_400/0/1631421027631/rapidsoft_technologies_pvt__ltd__logo?e=1721260800&v=beta&t=xVa-TyFVjCv-KuyoAQu5JpzGy3SaHGmG0R2_DbnRX3w', 'issuedOn': {'year': 2016, 'month': 10, 'day': 0}}], 'volunteering': [{'title': 'Member', 'start': {'year': 2019, 'month': 7, 'day': 0}, 'end': {'year': 0, 'month': 0, 'day': 0}, 'companyName': 'OWASP® Foundation', 'CompanyId': '250673', 'companyUrl': 'https://www.linkedin.com/company/250673', 'companyLogo': 'https://media.licdn.com/dms/image/D560BAQGQfRxMsnFs5Q/company-logo_400_400/0/1709740993906/owasp_logo?e=1721260800&v=beta&t=ZhNW-SbX3A1F2ttvKd0sE8QEee6qOT-lb8qAK9Rj3zY'}], 'supportedLocales': [{'country': 'US', 'language': 'en'}], 'multiLocaleFirstName': {'en': 'Yogesh'}, 'multiLocaleLastName': {'en': 'Kumar'}, 'multiLocaleHeadline': {'en': 'Certified Salesforce Expert |\\nSr. React Native Developer'}}\n"
          ]
        }
      ],
      "source": [
        "# a)\n",
        "import requests\n",
        "\n",
        "url = \"https://linkedin-data-api.p.rapidapi.com/\"\n",
        "\n",
        "querystring = {\"username\":\"username\"}\n",
        "\n",
        "headers = {\n",
        "\t\"X-RapidAPI-Key\": \"4bd97980dbmsh3f830bd1270735ep19b021jsn9d231c536690\",\n",
        "\t\"X-RapidAPI-Host\": \"linkedin-data-api.p.rapidapi.com\"\n",
        "}\n",
        "\n",
        "response = requests.get(url, headers=headers, params=querystring)\n",
        "\n",
        "print(response.json())"
      ]
    },
    {
      "cell_type": "code",
      "source": [
        "pip install dash"
      ],
      "metadata": {
        "colab": {
          "base_uri": "https://localhost:8080/"
        },
        "id": "LyU4djsYKtx6",
        "outputId": "e46f6dca-677d-4178-f5c3-cb526e76eae5"
      },
      "execution_count": 2,
      "outputs": [
        {
          "output_type": "stream",
          "name": "stdout",
          "text": [
            "Collecting dash\n",
            "  Downloading dash-2.16.1-py3-none-any.whl (10.2 MB)\n",
            "\u001b[2K     \u001b[90m━━━━━━━━━━━━━━━━━━━━━━━━━━━━━━━━━━━━━━━━\u001b[0m \u001b[32m10.2/10.2 MB\u001b[0m \u001b[31m24.9 MB/s\u001b[0m eta \u001b[36m0:00:00\u001b[0m\n",
            "\u001b[?25hRequirement already satisfied: Flask<3.1,>=1.0.4 in /usr/local/lib/python3.10/dist-packages (from dash) (2.2.5)\n",
            "Requirement already satisfied: Werkzeug<3.1 in /usr/local/lib/python3.10/dist-packages (from dash) (3.0.2)\n",
            "Requirement already satisfied: plotly>=5.0.0 in /usr/local/lib/python3.10/dist-packages (from dash) (5.15.0)\n",
            "Collecting dash-html-components==2.0.0 (from dash)\n",
            "  Downloading dash_html_components-2.0.0-py3-none-any.whl (4.1 kB)\n",
            "Collecting dash-core-components==2.0.0 (from dash)\n",
            "  Downloading dash_core_components-2.0.0-py3-none-any.whl (3.8 kB)\n",
            "Collecting dash-table==5.0.0 (from dash)\n",
            "  Downloading dash_table-5.0.0-py3-none-any.whl (3.9 kB)\n",
            "Requirement already satisfied: importlib-metadata in /usr/local/lib/python3.10/dist-packages (from dash) (7.1.0)\n",
            "Requirement already satisfied: typing-extensions>=4.1.1 in /usr/local/lib/python3.10/dist-packages (from dash) (4.11.0)\n",
            "Requirement already satisfied: requests in /usr/local/lib/python3.10/dist-packages (from dash) (2.31.0)\n",
            "Collecting retrying (from dash)\n",
            "  Downloading retrying-1.3.4-py3-none-any.whl (11 kB)\n",
            "Requirement already satisfied: nest-asyncio in /usr/local/lib/python3.10/dist-packages (from dash) (1.6.0)\n",
            "Requirement already satisfied: setuptools in /usr/local/lib/python3.10/dist-packages (from dash) (67.7.2)\n",
            "Requirement already satisfied: Jinja2>=3.0 in /usr/local/lib/python3.10/dist-packages (from Flask<3.1,>=1.0.4->dash) (3.1.3)\n",
            "Requirement already satisfied: itsdangerous>=2.0 in /usr/local/lib/python3.10/dist-packages (from Flask<3.1,>=1.0.4->dash) (2.1.2)\n",
            "Requirement already satisfied: click>=8.0 in /usr/local/lib/python3.10/dist-packages (from Flask<3.1,>=1.0.4->dash) (8.1.7)\n",
            "Requirement already satisfied: tenacity>=6.2.0 in /usr/local/lib/python3.10/dist-packages (from plotly>=5.0.0->dash) (8.2.3)\n",
            "Requirement already satisfied: packaging in /usr/local/lib/python3.10/dist-packages (from plotly>=5.0.0->dash) (24.0)\n",
            "Requirement already satisfied: MarkupSafe>=2.1.1 in /usr/local/lib/python3.10/dist-packages (from Werkzeug<3.1->dash) (2.1.5)\n",
            "Requirement already satisfied: zipp>=0.5 in /usr/local/lib/python3.10/dist-packages (from importlib-metadata->dash) (3.18.1)\n",
            "Requirement already satisfied: charset-normalizer<4,>=2 in /usr/local/lib/python3.10/dist-packages (from requests->dash) (3.3.2)\n",
            "Requirement already satisfied: idna<4,>=2.5 in /usr/local/lib/python3.10/dist-packages (from requests->dash) (3.6)\n",
            "Requirement already satisfied: urllib3<3,>=1.21.1 in /usr/local/lib/python3.10/dist-packages (from requests->dash) (2.0.7)\n",
            "Requirement already satisfied: certifi>=2017.4.17 in /usr/local/lib/python3.10/dist-packages (from requests->dash) (2024.2.2)\n",
            "Requirement already satisfied: six>=1.7.0 in /usr/local/lib/python3.10/dist-packages (from retrying->dash) (1.16.0)\n",
            "Installing collected packages: dash-table, dash-html-components, dash-core-components, retrying, dash\n",
            "Successfully installed dash-2.16.1 dash-core-components-2.0.0 dash-html-components-2.0.0 dash-table-5.0.0 retrying-1.3.4\n"
          ]
        }
      ]
    },
    {
      "cell_type": "code",
      "source": [
        "#b)\n",
        "import dash\n",
        "from dash import dcc, html\n",
        "from dash.dependencies import Input, Output\n",
        "import requests\n",
        "\n",
        "# Fetch JSON data function\n",
        "def fetch_json():\n",
        "    url = \"https://linkedin-data-api.p.rapidapi.com/\"\n",
        "    headers = {\n",
        "        \"X-RapidAPI-Key\": \"4bd97980dbmsh3f830bd1270735ep19b021jsn9d231c536690\",\n",
        "        \"X-RapidAPI-Host\": \"linkedin-data-api.p.rapidapi.com\"\n",
        "    }\n",
        "    querystring = {\"username\": \"username\"}\n",
        "    response = requests.get(url, headers=headers, params=querystring)\n",
        "    return response.json()\n",
        "\n",
        "# Parse JSON data and display as dashboard\n",
        "def parse_json_data():\n",
        "    data = fetch_json()\n",
        "    dashboard_layout = html.Div([\n",
        "        html.H2(\"LinkedIn Profile Dashboard\"),\n",
        "        html.Hr(),\n",
        "        html.H3(\"Personal Information:\"),\n",
        "        html.Div([\n",
        "            html.Strong(\"Name: \"), data[\"multiLocaleFirstName\"][\"en\"], \" \", data[\"multiLocaleLastName\"][\"en\"],\n",
        "            html.Br(),\n",
        "            html.Strong(\"Headline: \"), data[\"multiLocaleHeadline\"][\"en\"],\n",
        "            html.Br(),\n",
        "            html.Strong(\"Location: \"), data[\"geo\"][\"city\"], \", \", data[\"geo\"][\"country\"],\n",
        "        ]),\n",
        "        html.Hr(),\n",
        "        html.H3(\"Employment History:\"),\n",
        "        html.Ul([\n",
        "            html.Li(job[\"title\"]) for job in data[\"position\"]\n",
        "        ])\n",
        "    ])\n",
        "    return dashboard_layout\n",
        "\n",
        "# Initialize the Dash app\n",
        "app = dash.Dash(__name__)\n",
        "\n",
        "# Define the layout of the dashboard\n",
        "app.layout = parse_json_data\n",
        "\n",
        "if __name__ == '__main__':\n",
        "    app.run_server(debug=True)\n"
      ],
      "metadata": {
        "colab": {
          "base_uri": "https://localhost:8080/",
          "height": 672
        },
        "id": "VY0y6argLysn",
        "outputId": "01f6b65f-ec70-4812-cb1e-28e7fd57ebb9"
      },
      "execution_count": 3,
      "outputs": [
        {
          "output_type": "display_data",
          "data": {
            "text/plain": [
              "<IPython.core.display.Javascript object>"
            ],
            "application/javascript": [
              "(async (port, path, width, height, cache, element) => {\n",
              "    if (!google.colab.kernel.accessAllowed && !cache) {\n",
              "      return;\n",
              "    }\n",
              "    element.appendChild(document.createTextNode(''));\n",
              "    const url = await google.colab.kernel.proxyPort(port, {cache});\n",
              "    const iframe = document.createElement('iframe');\n",
              "    iframe.src = new URL(path, url).toString();\n",
              "    iframe.height = height;\n",
              "    iframe.width = width;\n",
              "    iframe.style.border = 0;\n",
              "    iframe.allow = [\n",
              "        'accelerometer',\n",
              "        'autoplay',\n",
              "        'camera',\n",
              "        'clipboard-read',\n",
              "        'clipboard-write',\n",
              "        'gyroscope',\n",
              "        'magnetometer',\n",
              "        'microphone',\n",
              "        'serial',\n",
              "        'usb',\n",
              "        'xr-spatial-tracking',\n",
              "    ].join('; ');\n",
              "    element.appendChild(iframe);\n",
              "  })(8050, \"/\", \"100%\", 650, false, window.element)"
            ]
          },
          "metadata": {}
        }
      ]
    }
  ]
}